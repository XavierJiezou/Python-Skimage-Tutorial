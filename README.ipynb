{
 "cells": [
  {
   "cell_type": "markdown",
   "metadata": {},
   "source": [
    "# Python-Skimage-Tutorial"
   ]
  },
  {
   "cell_type": "markdown",
   "metadata": {},
   "source": [
    "*scikit-image* 是在科学计算库 scipy 的子模块 ndimage 基础上构建的，集成了很多图像处理算法，是一个非常受欢迎的 Python 开源图像处理库。"
   ]
  },
  {
   "cell_type": "markdown",
   "metadata": {},
   "source": [
    "## 安装"
   ]
  },
  {
   "cell_type": "markdown",
   "metadata": {},
   "source": [
    "```bash\n",
    "pip install scikit-image\n",
    "```"
   ]
  },
  {
   "cell_type": "markdown",
   "metadata": {},
   "source": [
    "## 准备"
   ]
  },
  {
   "cell_type": "markdown",
   "metadata": {},
   "source": [
    "教程开始之前，建议你先了解在 *scikit-learn* 中定义的一些常见术语，这能帮助你更好地理解和掌握其图像处理的思想。"
   ]
  },
  {
   "cell_type": "markdown",
   "metadata": {},
   "source": [
    "- array：数组。在 *scikit-learn* 中，以 numpy.ndarray 对象来表示图像。其维度对应于图像的空间维度和彩色图像的颜色通道相对应。"
   ]
  },
  {
   "cell_type": "markdown",
   "metadata": {},
   "source": [
    "## 教程"
   ]
  },
  {
   "cell_type": "markdown",
   "metadata": {},
   "source": [
    "### 快速入门"
   ]
  },
  {
   "cell_type": "markdown",
   "metadata": {},
   "source": [
    "`scikit-image` 可与 `numpy` 数组一起使用，该包作为 `skimage` 被导入："
   ]
  },
  {
   "cell_type": "code",
   "execution_count": 1,
   "metadata": {},
   "outputs": [],
   "source": [
    "import skimage"
   ]
  },
  {
   "cell_type": "markdown",
   "metadata": {},
   "source": [
    "`skimage` 的大部分功能都封装在子模块中，你可以在**接口**章节查看完整的子模块列表。例如，从 `data` 子模块导入一张测试图像："
   ]
  },
  {
   "cell_type": "code",
   "execution_count": 2,
   "metadata": {},
   "outputs": [
    {
     "data": {
      "text/plain": [
       "array([[200, 200, 200, ..., 189, 190, 190],\n",
       "       [200, 199, 199, ..., 190, 190, 190],\n",
       "       [199, 199, 199, ..., 190, 190, 190],\n",
       "       ...,\n",
       "       [ 25,  25,  27, ..., 139, 122, 147],\n",
       "       [ 25,  25,  26, ..., 158, 141, 168],\n",
       "       [ 25,  25,  27, ..., 151, 152, 149]], dtype=uint8)"
      ]
     },
     "execution_count": 2,
     "metadata": {},
     "output_type": "execute_result"
    }
   ],
   "source": [
    "from skimage import  data\n",
    "camera = data.camera()\n",
    "camera"
   ]
  },
  {
   "cell_type": "markdown",
   "metadata": {},
   "source": [
    "在 `scikit-image` 中，图像表示为 NumPy 数组，例如二维数组表示灰度图像："
   ]
  },
  {
   "cell_type": "code",
   "execution_count": 3,
   "metadata": {},
   "outputs": [
    {
     "data": {
      "text/plain": [
       "numpy.ndarray"
      ]
     },
     "execution_count": 3,
     "metadata": {},
     "output_type": "execute_result"
    }
   ],
   "source": [
    "type(camera)"
   ]
  },
  {
   "cell_type": "code",
   "execution_count": 4,
   "metadata": {},
   "outputs": [
    {
     "data": {
      "text/plain": [
       "(512, 512)"
      ]
     },
     "execution_count": 4,
     "metadata": {},
     "output_type": "execute_result"
    }
   ],
   "source": [
    "camera.shape # An image with 512 rows and 512 columns"
   ]
  },
  {
   "cell_type": "markdown",
   "metadata": {},
   "source": [
    "`skimage.data` 子模块提供了一组返回示例图像的函数，可用于快速开始使用 `scikit-image` 的函数："
   ]
  },
  {
   "cell_type": "code",
   "execution_count": 5,
   "metadata": {},
   "outputs": [
    {
     "data": {
      "text/plain": [
       "107"
      ]
     },
     "execution_count": 5,
     "metadata": {},
     "output_type": "execute_result"
    }
   ],
   "source": [
    "coins = data.coins()\n",
    "from skimage import  filters\n",
    "threshold_value = filters.threshold_otsu(coins)\n",
    "threshold_value"
   ]
  },
  {
   "cell_type": "markdown",
   "metadata": {},
   "source": [
    "当然，也可以使用 `skimage.io.imread()` 将你自己的图像作为 NumPy 数组从图像文件中加载："
   ]
  },
  {
   "cell_type": "code",
   "execution_count": 6,
   "metadata": {},
   "outputs": [
    {
     "data": {
      "text/plain": [
       "array([[116, 116, 122, ...,  93,  96,  96],\n",
       "       [116, 116, 122, ...,  93,  96,  96],\n",
       "       [116, 116, 122, ...,  93,  96,  96],\n",
       "       ...,\n",
       "       [109, 109, 112, ..., 117, 116, 116],\n",
       "       [114, 114, 113, ..., 118, 118, 118],\n",
       "       [114, 114, 113, ..., 118, 118, 118]], dtype=uint8)"
      ]
     },
     "execution_count": 6,
     "metadata": {},
     "output_type": "execute_result"
    }
   ],
   "source": [
    "from skimage import io\n",
    "moon = io.imread('images/test/moon.png')\n",
    "moon"
   ]
  },
  {
   "cell_type": "markdown",
   "metadata": {},
   "source": [
    "### NumPy 图像"
   ]
  },
  {
   "cell_type": "markdown",
   "metadata": {},
   "source": [
    "`scikit-image` 中的图像由 NumPy 数组表示。因此，使用标准的 NumPy 方法来操作数组可以实现很多常见操作："
   ]
  },
  {
   "cell_type": "code",
   "execution_count": 7,
   "metadata": {},
   "outputs": [
    {
     "name": "stdout",
     "output_type": "stream",
     "text": [
      "<class 'numpy.ndarray'>\n",
      "(512, 512)\n",
      "262144\n"
     ]
    }
   ],
   "source": [
    "from skimage import  data\n",
    "camera = data.camera()\n",
    "print(type(camera))\n",
    "print(camera.shape)\n",
    "print(camera.size)"
   ]
  },
  {
   "cell_type": "markdown",
   "metadata": {},
   "source": [
    "检索有关图像亮度值的统计信息："
   ]
  },
  {
   "cell_type": "code",
   "execution_count": 8,
   "metadata": {},
   "outputs": [
    {
     "name": "stdout",
     "output_type": "stream",
     "text": [
      "0\n",
      "255\n",
      "129.06072616577148\n"
     ]
    }
   ],
   "source": [
    "print(camera.min())\n",
    "print(camera.max())\n",
    "print(camera.mean())"
   ]
  },
  {
   "cell_type": "markdown",
   "metadata": {},
   "source": [
    "表示图像的 NumPy 数组可以是不同的整数或浮点数类型。关于图像数据类型的详细信息点击[这里](https://scikit-image.org/docs/stable/user_guide/data_types.html)查看。"
   ]
  },
  {
   "cell_type": "markdown",
   "metadata": {},
   "source": [
    "#### NumPy 索引"
   ]
  },
  {
   "cell_type": "markdown",
   "metadata": {},
   "source": [
    "NumPy 索引可用于查看和修改像素值："
   ]
  },
  {
   "cell_type": "code",
   "execution_count": 9,
   "metadata": {},
   "outputs": [
    {
     "name": "stdout",
     "output_type": "stream",
     "text": [
      "200\n",
      "0\n"
     ]
    }
   ],
   "source": [
    "print(camera[10, 20]) # Get the value of the pixel at the 10th row and 20th column\n",
    "camera[10, 20] = 0 # Set to black the pixel at the 10th row and 20th column\n",
    "print(camera[10, 20]) # Check whether the pixel values is modified"
   ]
  },
  {
   "cell_type": "markdown",
   "metadata": {},
   "source": [
    "注意！在 NumPy 索引中，第一个维度（`camera.shape[0]`）对应于行，而第二个维度（`camera.shape[1]`）对应于列，原点（`camera[0, 0]`）位于左上角。这与矩阵或线性代数的记数法匹配，但与笛卡尔坐标相反。有关更多坐标的详细信息请点击[这里](https://scikit-image.org/docs/stable/user_guide/numpy_images.html#coordinate-conventions)查看。"
   ]
  },
  {
   "cell_type": "markdown",
   "metadata": {},
   "source": [
    "除一次访问单个像素外，还能使用 NumPy 的不同索引功能访问或修改多个或所有像素的值。"
   ]
  },
  {
   "cell_type": "markdown",
   "metadata": {},
   "source": [
    "切片："
   ]
  },
  {
   "cell_type": "code",
   "execution_count": 10,
   "metadata": {},
   "outputs": [],
   "source": [
    "camera[:10] = 0 # Set the first ten lines to 0"
   ]
  },
  {
   "cell_type": "markdown",
   "metadata": {},
   "source": [
    "蒙版："
   ]
  },
  {
   "cell_type": "code",
   "execution_count": 11,
   "metadata": {},
   "outputs": [],
   "source": [
    "# Set to 255 the pixels where mask is True\n",
    "mask = camera < 87\n",
    "camera[mask] = 255"
   ]
  },
  {
   "cell_type": "markdown",
   "metadata": {},
   "source": [
    "组合："
   ]
  },
  {
   "cell_type": "code",
   "execution_count": 12,
   "metadata": {},
   "outputs": [],
   "source": [
    "import numpy as np\n",
    "inds_r = np.arange(len(camera))\n",
    "inds_c = 4 * inds_r % len(camera)\n",
    "camera[inds_r, inds_c] = 0"
   ]
  },
  {
   "cell_type": "markdown",
   "metadata": {},
   "source": [
    "当你需要选择一组像素值并在其上执行操作时，蒙版将非常有用。蒙版可以是与图像形状相同的任何布尔数组，这可用于定义感兴趣区域："
   ]
  },
  {
   "cell_type": "code",
   "execution_count": 13,
   "metadata": {},
   "outputs": [
    {
     "data": {
      "text/plain": [
       "<matplotlib.image.AxesImage at 0x1f59845b2e0>"
      ]
     },
     "execution_count": 13,
     "metadata": {},
     "output_type": "execute_result"
    },
    {
     "data": {
      "image/png": "[encoded data removed]",
      "text/plain": [
       "<Figure size 432x288 with 2 Axes>"
      ]
     },
     "metadata": {
      "needs_background": "light"
     },
     "output_type": "display_data"
    }
   ],
   "source": [
    "from skimage import data\n",
    "camera = data.camera()\n",
    "tmpvar = camera.copy()\n",
    "nrows, ncols = camera.shape\n",
    "row, col = np.ogrid[:nrows, :ncols]\n",
    "cnt_row, cnt_col = nrows / 2, ncols / 2\n",
    "outer_disk_mask = ((row - cnt_row)**2 + (col - cnt_col)**2 > (nrows / 2)**2)\n",
    "camera[outer_disk_mask] = 0\n",
    "\n",
    "# Plot\n",
    "import matplotlib.pyplot as plt\n",
    "plt.subplot(1, 2, 1)\n",
    "plt.imshow(tmpvar, plt.cm.gray)\n",
    "plt.subplot(1, 2, 2)\n",
    "plt.imshow(camera, plt.cm.gray)"
   ]
  },
  {
   "cell_type": "markdown",
   "metadata": {},
   "source": [
    "#### 彩色图像"
   ]
  },
  {
   "cell_type": "markdown",
   "metadata": {},
   "source": [
    "上述所有内容对于彩色图像也都适用。彩色图像也是一个 Numpy 数组，只不过比灰度图像多了一个维度："
   ]
  },
  {
   "cell_type": "code",
   "execution_count": 15,
   "metadata": {},
   "outputs": [
    {
     "name": "stdout",
     "output_type": "stream",
     "text": [
      "<class 'numpy.ndarray'>\n",
      "(300, 451, 3)\n"
     ]
    }
   ],
   "source": [
    "from skimage import  data\n",
    "cat = data.chelsea()\n",
    "print(type(cat))\n",
    "print(cat.shape)"
   ]
  },
  {
   "cell_type": "markdown",
   "metadata": {},
   "source": [
    "上述结果表明 `cat` 是一个 300x451 像素的图像，具有三个通道（红色、绿色和蓝色）"
   ]
  },
  {
   "cell_type": "markdown",
   "metadata": {},
   "source": [
    "### 图像数据类型及其含义"
   ]
  },
  {
   "cell_type": "markdown",
   "metadata": {},
   "source": [
    "`scikit-image` 使用如下七种图像的数据类型："
   ]
  },
  {
   "cell_type": "markdown",
   "metadata": {},
   "source": [
    "| 数据类型 | 取值范围       |\n",
    "|----------|----------------|\n",
    "| uint8    | 0~$2^8$-1       |\n",
    "| uint16   | 0~$2^{16}$-1      |\n",
    "| uint32   | 0~$2^{32}$-1      |\n",
    "| float    | -1~1 或者 0~1  |\n",
    "| int8     | -$2^7$~$2^7$-1   |\n",
    "| int16    | -$2^{15}$~$2^{15}$-1 |\n",
    "| int32    | -$2^{31}$~$2^{31}$-1 |"
   ]
  },
  {
   "cell_type": "markdown",
   "metadata": {},
   "source": [
    "更多关于图像数据类型的信息请点击[这里](https://scikit-image.org/docs/stable/user_guide/data_types.html)查看。"
   ]
  },
  {
   "cell_type": "markdown",
   "metadata": {},
   "source": [
    "## 接口"
   ]
  },
  {
   "cell_type": "markdown",
   "metadata": {},
   "source": [
    "skimage 的主程序包只提供了几个用于在图像数据类型之间转换的功能；对于大多数的功能，你需要导入其子程序包来实现。"
   ]
  },
  {
   "cell_type": "markdown",
   "metadata": {},
   "source": [
    "- [color](https://scikit-image.org/docs/stable/api/skimage.color.html#module-skimage.color)：颜色空间转换。\n",
    "- [data](https://scikit-image.org/docs/stable/api/skimage.data.html#module-skimage.data)：测试图像和实例数据。\n",
    "- [draw](https://scikit-image.org/docs/stable/api/skimage.draw.html#module-skimage.draw)：绘制基本图像单元（线条、文本等）。是通过操作 Numpy 数组实现的。\n",
    "- [exposure](https://scikit-image.org/docs/stable/api/skimage.exposure.html#module-skimage.exposure)：图像亮度调整，如直方图均衡化等。\n",
    "- [feature](https://scikit-image.org/docs/stable/api/skimage.feature.html#module-skimage.feature)：特征检测和提取，例如纹理分析等。\n",
    "- [filters](https://scikit-image.org/docs/stable/api/skimage.filters.html#module-skimage.filters)：图像锐化、边缘检测、秩滤波、阈值滤波等。\n",
    "- [graph](https://scikit-image.org/docs/stable/api/skimage.graph.html#module-skimage.graph)：图论运算，例如最短路径。\n",
    "- [io](https://scikit-image.org/docs/stable/api/skimage.io.html#module-skimage.io)：读取、保存和现实图像和视频。\n",
    "- [measure](https://scikit-image.org/docs/stable/api/skimage.measure.html#module-skimage.measure)：测量图像属性，例如区域属性和轮廓。\n",
    "- [metrics](https://scikit-image.org/docs/stable/api/skimage.metrics.html#module-skimage.metrics)：与图像对应的指标计算，例如距离度量、图像相似度等。\n",
    "- [morphology](https://scikit-image.org/docs/stable/api/skimage.morphology.html#module-skimage.morphology)：形态运算，例如开口或骨架化。\n",
    "- [restoration](https://scikit-image.org/docs/stable/api/skimage.registration.html#module-skimage.registration)：重建算法，例如反卷积算法、去噪等。\n",
    "- [segmentation](https://scikit-image.org/docs/stable/api/skimage.segmentation.html#module-skimage.segmentation)：图像分割，将一副完整的图像划分为多个子区域。\n",
    "- [transform](https://scikit-image.org/docs/stable/api/skimage.transform.html#module-skimage.transform)：几何和其他变换，例如旋转和拉东变换。\n",
    "- [util](https://scikit-image.org/docs/stable/api/skimage.util.html#module-skimage.util)：通用程序。\n",
    "- [viewer](https://scikit-image.org/docs/stable/api/skimage.viewer.html#module-skimage.viewer)：一个简单的图像化界面，用于可视化结果和查看参数。"
   ]
  },
  {
   "cell_type": "markdown",
   "metadata": {},
   "source": [
    "## 参考"
   ]
  },
  {
   "cell_type": "markdown",
   "metadata": {},
   "source": [
    "> [https://scikit-image.org/](https://scikit-image.org/)"
   ]
  }
 ],
 "metadata": {
  "interpreter": {
   "hash": "ecf5722fdaf1897a315d257d89d94520bfcaa453217d5becf09b39e73618b0de"
  },
  "kernelspec": {
   "display_name": "Python 3.9.1 ('base')",
   "language": "python",
   "name": "python3"
  },
  "language_info": {
   "codemirror_mode": {
    "name": "ipython",
    "version": 3
   },
   "file_extension": ".py",
   "mimetype": "text/x-python",
   "name": "python",
   "nbconvert_exporter": "python",
   "pygments_lexer": "ipython3",
   "version": "3.9.1"
  },
  "orig_nbformat": 4
 },
 "nbformat": 4,
 "nbformat_minor": 2
}
